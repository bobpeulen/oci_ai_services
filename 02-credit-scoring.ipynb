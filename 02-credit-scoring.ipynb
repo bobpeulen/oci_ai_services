{
 "cells": [
  {
   "cell_type": "markdown",
   "id": "86f338d6",
   "metadata": {},
   "source": [
    "----"
   ]
  },
  {
   "cell_type": "markdown",
   "id": "39c57a78",
   "metadata": {},
   "source": [
    "# **Credit Scoring - Building and Running a Machine Learning model**"
   ]
  },
  {
   "cell_type": "markdown",
   "id": "3adf7e1e",
   "metadata": {},
   "source": [
    "----"
   ]
  },
  {
   "attachments": {
    "158aa01c-6e75-4217-a958-2e1cf7302329.png": {
     "image/png": "[encoded data removed]"
    }
   },
   "cell_type": "markdown",
   "id": "427716a2",
   "metadata": {},
   "source": [
    "<img src=\"attachment:158aa01c-6e75-4217-a958-2e1cf7302329.png\" width=\"75\">"
   ]
  },
  {
   "cell_type": "markdown",
   "id": "340b744e",
   "metadata": {},
   "source": [
    "<span style='color:#09a2b3'>**Author:**</span> Bob Peulen </br>\n",
    "<span style='color:#09a2b3'>**Title:**</span> Senior Cloud Specialist </br>\n",
    "<span style='color:#09a2b3'>**Domain:**</span> Data Science</br></br>\n"
   ]
  },
  {
   "cell_type": "markdown",
   "id": "f5dd910d",
   "metadata": {},
   "source": [
    "---"
   ]
  },
  {
   "cell_type": "markdown",
   "id": "6550b775",
   "metadata": {},
   "source": [
    "# **Imports**"
   ]
  },
  {
   "cell_type": "code",
   "execution_count": 1,
   "id": "db21c079",
   "metadata": {},
   "outputs": [],
   "source": [
    "import oci\n",
    "import uuid\n",
    "import json\n",
    "import pandas as pd\n",
    "import seaborn as sns\n",
    "import matplotlib.pyplot as plt\n",
    "from sklearn import preprocessing, svm\n",
    "from sklearn.model_selection import train_test_split\n",
    "from sklearn.linear_model import LinearRegression\n",
    "import numpy as np\n",
    "import random\n",
    "from ads.model.framework.sklearn_model import SklearnModel\n",
    "from ads.common.model_metadata import UseCaseType\n",
    "import time"
   ]
  },
  {
   "cell_type": "markdown",
   "id": "e368ed23",
   "metadata": {},
   "source": [
    "## **Authentication**"
   ]
  },
  {
   "cell_type": "code",
   "execution_count": 2,
   "id": "9a753d9f",
   "metadata": {},
   "outputs": [
    {
     "name": "stdout",
     "output_type": "stream",
     "text": [
      "\n",
      "Authentication Successful!\n",
      "\n",
      "OCI User Logged In: oracleidentitycloudservice/bob.peulen@oracle.com\n",
      "OCI User Email: None\n"
     ]
    }
   ],
   "source": [
    "# Check Authentication with OCI\n",
    "def oci_authenticate(debug):\n",
    "    \n",
    "    # Set up and read in config file to authenticate against OCI\n",
    "    config = oci.config.from_file('~/.oci/config', 'DEFAULT')\n",
    "\n",
    "    # Create a Service Client to Identity API\n",
    "    identity = oci.identity.IdentityClient(config)\n",
    "\n",
    "    # Check if successful response received\n",
    "    if identity.get_user(config['user']).status == 200:\n",
    "        \n",
    "        # Get the current User Information from API\n",
    "        user = identity.get_user(config['user']).data\n",
    "\n",
    "        if debug == 'y':\n",
    "            print('\\nAuthentication Successful!')\n",
    "            print('\\nOCI User Logged In:', user.name)\n",
    "            print('OCI User Email:', user.email)\n",
    "    else:\n",
    "        print('Authentication Failed!')\n",
    "        print('HTTP Request Error Code:', identity.get_user(config['user']).status)\n",
    "\n",
    "    # Return config object to be used to initialise AI Language Client\n",
    "    return config\n",
    "\n",
    "# Authenticate against OCI\n",
    "config = oci_authenticate('y')"
   ]
  },
  {
   "cell_type": "markdown",
   "id": "5abd3fa7",
   "metadata": {},
   "source": [
    "----------"
   ]
  },
  {
   "cell_type": "markdown",
   "id": "02d380f7",
   "metadata": {},
   "source": [
    "# **1. Machine Learning model - Credit Score**"
   ]
  },
  {
   "cell_type": "markdown",
   "id": "ee83b362",
   "metadata": {},
   "source": [
    "---"
   ]
  },
  {
   "cell_type": "markdown",
   "id": "06f91f8a",
   "metadata": {},
   "source": [
    "## **1.1 Read in data**"
   ]
  },
  {
   "cell_type": "code",
   "execution_count": 3,
   "id": "b7c1947a",
   "metadata": {},
   "outputs": [
    {
     "data": {
      "text/html": [
       "<div>\n",
       "<style scoped>\n",
       "    .dataframe tbody tr th:only-of-type {\n",
       "        vertical-align: middle;\n",
       "    }\n",
       "\n",
       "    .dataframe tbody tr th {\n",
       "        vertical-align: top;\n",
       "    }\n",
       "\n",
       "    .dataframe thead th {\n",
       "        text-align: right;\n",
       "    }\n",
       "</style>\n",
       "<table border=\"1\" class=\"dataframe\">\n",
       "  <thead>\n",
       "    <tr style=\"text-align: right;\">\n",
       "      <th></th>\n",
       "      <th>Customer ID</th>\n",
       "      <th>Age</th>\n",
       "      <th>Income</th>\n",
       "      <th>Marital Status</th>\n",
       "      <th>Number of Liables</th>\n",
       "      <th>Wealth</th>\n",
       "      <th>Education Level</th>\n",
       "      <th>Tenure</th>\n",
       "      <th>Loan Type</th>\n",
       "      <th>Loan Amount</th>\n",
       "      <th>...</th>\n",
       "      <th>Churn Rate of CC2</th>\n",
       "      <th>Churn Rate of CCN</th>\n",
       "      <th>Churn Rate of Account No.1</th>\n",
       "      <th>Churn Rate  of Account No.2</th>\n",
       "      <th>Churn Rate of Account No.N</th>\n",
       "      <th>Health Score</th>\n",
       "      <th>Customer Depth</th>\n",
       "      <th>Lifecycle Stage</th>\n",
       "      <th>count</th>\n",
       "      <th>Loan Status</th>\n",
       "    </tr>\n",
       "  </thead>\n",
       "  <tbody>\n",
       "    <tr>\n",
       "      <th>0</th>\n",
       "      <td>68</td>\n",
       "      <td>31.0</td>\n",
       "      <td>500.0</td>\n",
       "      <td>Single</td>\n",
       "      <td>2.0</td>\n",
       "      <td>Very Poor</td>\n",
       "      <td>Primary School Grad</td>\n",
       "      <td>39.0</td>\n",
       "      <td>Housing</td>\n",
       "      <td>100000.0</td>\n",
       "      <td>...</td>\n",
       "      <td>0.5</td>\n",
       "      <td>0.50</td>\n",
       "      <td>0.2</td>\n",
       "      <td>0.4</td>\n",
       "      <td>0.30</td>\n",
       "      <td>7.0</td>\n",
       "      <td>6.0</td>\n",
       "      <td>2.0</td>\n",
       "      <td>1</td>\n",
       "      <td>Submitted</td>\n",
       "    </tr>\n",
       "    <tr>\n",
       "      <th>1</th>\n",
       "      <td>451</td>\n",
       "      <td>45.0</td>\n",
       "      <td>500.0</td>\n",
       "      <td>Married</td>\n",
       "      <td>3.0</td>\n",
       "      <td>Very Poor</td>\n",
       "      <td>Primary School Grad</td>\n",
       "      <td>39.0</td>\n",
       "      <td>Need</td>\n",
       "      <td>45000.0</td>\n",
       "      <td>...</td>\n",
       "      <td>1.0</td>\n",
       "      <td>0.60</td>\n",
       "      <td>1.0</td>\n",
       "      <td>0.6</td>\n",
       "      <td>0.80</td>\n",
       "      <td>6.0</td>\n",
       "      <td>1.0</td>\n",
       "      <td>3.0</td>\n",
       "      <td>1</td>\n",
       "      <td>Approved</td>\n",
       "    </tr>\n",
       "    <tr>\n",
       "      <th>2</th>\n",
       "      <td>535</td>\n",
       "      <td>20.0</td>\n",
       "      <td>500.0</td>\n",
       "      <td>Married</td>\n",
       "      <td>3.0</td>\n",
       "      <td>Very Poor</td>\n",
       "      <td>Primary School Grad</td>\n",
       "      <td>7.0</td>\n",
       "      <td>Need</td>\n",
       "      <td>30000.0</td>\n",
       "      <td>...</td>\n",
       "      <td>0.5</td>\n",
       "      <td>0.55</td>\n",
       "      <td>0.5</td>\n",
       "      <td>0.4</td>\n",
       "      <td>0.45</td>\n",
       "      <td>8.0</td>\n",
       "      <td>7.0</td>\n",
       "      <td>1.0</td>\n",
       "      <td>1</td>\n",
       "      <td>In progress</td>\n",
       "    </tr>\n",
       "    <tr>\n",
       "      <th>3</th>\n",
       "      <td>898</td>\n",
       "      <td>28.0</td>\n",
       "      <td>500.0</td>\n",
       "      <td>Divorced</td>\n",
       "      <td>3.0</td>\n",
       "      <td>Very Poor</td>\n",
       "      <td>Primary School Grad</td>\n",
       "      <td>8.0</td>\n",
       "      <td>Housing</td>\n",
       "      <td>75000.0</td>\n",
       "      <td>...</td>\n",
       "      <td>1.0</td>\n",
       "      <td>0.70</td>\n",
       "      <td>0.3</td>\n",
       "      <td>0.4</td>\n",
       "      <td>0.35</td>\n",
       "      <td>8.0</td>\n",
       "      <td>8.0</td>\n",
       "      <td>2.0</td>\n",
       "      <td>1</td>\n",
       "      <td>Submitted</td>\n",
       "    </tr>\n",
       "    <tr>\n",
       "      <th>4</th>\n",
       "      <td>1166</td>\n",
       "      <td>51.0</td>\n",
       "      <td>500.0</td>\n",
       "      <td>Married</td>\n",
       "      <td>3.0</td>\n",
       "      <td>Very Poor</td>\n",
       "      <td>Primary School Grad</td>\n",
       "      <td>9.0</td>\n",
       "      <td>Housing</td>\n",
       "      <td>100000.0</td>\n",
       "      <td>...</td>\n",
       "      <td>0.7</td>\n",
       "      <td>0.55</td>\n",
       "      <td>0.3</td>\n",
       "      <td>0.1</td>\n",
       "      <td>0.20</td>\n",
       "      <td>5.0</td>\n",
       "      <td>8.0</td>\n",
       "      <td>3.0</td>\n",
       "      <td>1</td>\n",
       "      <td>Approved</td>\n",
       "    </tr>\n",
       "  </tbody>\n",
       "</table>\n",
       "<p>5 rows × 89 columns</p>\n",
       "</div>"
      ],
      "text/plain": [
       "   Customer ID   Age  Income Marital Status  Number of Liables     Wealth  \\\n",
       "0           68  31.0   500.0         Single                2.0  Very Poor   \n",
       "1          451  45.0   500.0        Married                3.0  Very Poor   \n",
       "2          535  20.0   500.0        Married                3.0  Very Poor   \n",
       "3          898  28.0   500.0       Divorced                3.0  Very Poor   \n",
       "4         1166  51.0   500.0        Married                3.0  Very Poor   \n",
       "\n",
       "       Education Level  Tenure Loan Type  Loan Amount  ...  Churn Rate of CC2  \\\n",
       "0  Primary School Grad    39.0   Housing     100000.0  ...                0.5   \n",
       "1  Primary School Grad    39.0      Need      45000.0  ...                1.0   \n",
       "2  Primary School Grad     7.0      Need      30000.0  ...                0.5   \n",
       "3  Primary School Grad     8.0   Housing      75000.0  ...                1.0   \n",
       "4  Primary School Grad     9.0   Housing     100000.0  ...                0.7   \n",
       "\n",
       "  Churn Rate of CCN Churn Rate of Account No.1  Churn Rate  of Account No.2  \\\n",
       "0              0.50                        0.2                          0.4   \n",
       "1              0.60                        1.0                          0.6   \n",
       "2              0.55                        0.5                          0.4   \n",
       "3              0.70                        0.3                          0.4   \n",
       "4              0.55                        0.3                          0.1   \n",
       "\n",
       "  Churn Rate of Account No.N  Health Score  Customer Depth  Lifecycle Stage  \\\n",
       "0                       0.30           7.0             6.0              2.0   \n",
       "1                       0.80           6.0             1.0              3.0   \n",
       "2                       0.45           8.0             7.0              1.0   \n",
       "3                       0.35           8.0             8.0              2.0   \n",
       "4                       0.20           5.0             8.0              3.0   \n",
       "\n",
       "  count  Loan Status  \n",
       "0     1    Submitted  \n",
       "1     1     Approved  \n",
       "2     1  In progress  \n",
       "3     1    Submitted  \n",
       "4     1     Approved  \n",
       "\n",
       "[5 rows x 89 columns]"
      ]
     },
     "execution_count": 3,
     "metadata": {},
     "output_type": "execute_result"
    }
   ],
   "source": [
    "df_in = pd.read_excel(\"<path_to             /2-CreditScoring_13K.xlsx\")\n",
    "df_in.head()"
   ]
  },
  {
   "cell_type": "markdown",
   "id": "6cb21216",
   "metadata": {},
   "source": [
    "## **1.2 Functions to convert categorical values to numeric**"
   ]
  },
  {
   "cell_type": "code",
   "execution_count": 4,
   "id": "10a4bc10",
   "metadata": {},
   "outputs": [],
   "source": [
    "def gender_to_numeric(x):\n",
    "        if x=='Male': return 0\n",
    "        if x=='Female': return 1\n",
    "        \n",
    "def marital_to_numeric(x):\n",
    "        if x=='Divorced': return 0\n",
    "        if x=='Married': return 1\n",
    "        if x=='Single': return 2\n",
    "        if x=='Unkown': return 3\n",
    "        \n",
    "def loantype_to_numeric(x):\n",
    "        if x=='Auto': return 0\n",
    "        if x=='Need': return 1\n",
    "        if x=='Housing': return 2\n",
    "        if x=='Education': return 3   "
   ]
  },
  {
   "cell_type": "markdown",
   "id": "fc168436",
   "metadata": {},
   "source": [
    "## **1.3 Building Machine Learning model - Linear Regression**"
   ]
  },
  {
   "cell_type": "code",
   "execution_count": 5,
   "id": "348fb386",
   "metadata": {},
   "outputs": [
    {
     "data": {
      "text/plain": [
       "LinearRegression()"
      ]
     },
     "execution_count": 5,
     "metadata": {},
     "output_type": "execute_result"
    }
   ],
   "source": [
    "#filter on the features that we need\n",
    "df_in_ml = df_in[[\"Age\", \"Marital Status\", \"Loan Type\", \"Loan Amount\", \"Loan Length\", \"Gender\", \"Credit Score\"]]\n",
    "\n",
    "#fill missing values\n",
    "df_in_mlx = df_in_ml.fillna({'Age': 33, 'Marital Status': \"Unkown\", \"Loan Type\":\"Auto\", \"Loan Amount\": 40000, \"Loan Length\": 48, \"Gender\":\"Male\"})\n",
    "df_in_mlx[['Credit Score']] = df_in_mlx[['Credit Score']].fillna(method=\"ffill\")\n",
    "                             \n",
    "#apply categorical to numeric values\n",
    "df_in_mlx['Gender'] = df_in_mlx['Gender'].apply(gender_to_numeric)\n",
    "df_in_mlx['Marital Status'] = df_in_mlx['Marital Status'].apply(marital_to_numeric)\n",
    "df_in_mlx['Loan Type'] = df_in_mlx['Loan Type'].apply(loantype_to_numeric)\n",
    "\n",
    "# #split in X and Y\n",
    "X = np.array(df_in_mlx[[\"Age\", \"Marital Status\", \"Loan Type\", \"Loan Amount\", \"Loan Length\", \"Gender\"]])\n",
    "y = np.array(df_in_mlx['Credit Score'])\n",
    "\n",
    "# #split in train and test\n",
    "X_train, X_test, y_train, y_test = train_test_split(X, y, test_size = 0.25)\n",
    "\n",
    "# Initiate model\n",
    "regr = LinearRegression()\n",
    "\n",
    "#train the model\n",
    "regr.fit(X_train, y_train)"
   ]
  },
  {
   "cell_type": "markdown",
   "id": "14932f15",
   "metadata": {},
   "source": [
    "-----"
   ]
  },
  {
   "cell_type": "markdown",
   "id": "ecb833ab",
   "metadata": {},
   "source": [
    "# **2. Deploying the Machine Learning model**"
   ]
  },
  {
   "cell_type": "markdown",
   "id": "8c190e36",
   "metadata": {},
   "source": [
    "---"
   ]
  },
  {
   "cell_type": "markdown",
   "id": "c53629df",
   "metadata": {},
   "source": [
    "## **2.1 Store in de Model Catalog**"
   ]
  },
  {
   "cell_type": "code",
   "execution_count": 6,
   "id": "493363ba",
   "metadata": {},
   "outputs": [],
   "source": [
    "sklearn_model = SklearnModel(estimator=regr, artifact_dir=\"~/sklearn_artifact_dir\")\n",
    "sklearn_model.prepare(\n",
    "    inference_conda_env=\"generalml_p38_cpu_v1\",\n",
    "    training_conda_env=\"generalml_p38_cpu_v1\",\n",
    "    X_sample=X_train,\n",
    "    y_sample=y_train,\n",
    "    force_overwrite = True)"
   ]
  },
  {
   "cell_type": "code",
   "execution_count": 7,
   "id": "360e1c7f",
   "metadata": {},
   "outputs": [
    {
     "name": "stdout",
     "output_type": "stream",
     "text": [
      "Start loading model.joblib from model directory /home/datascience/sklearn_artifact_dir ...\n",
      "Model is successfully loaded.\n",
      "['output_schema.json', 'test_json_output.json', 'model.joblib', 'runtime.yaml', 'score.py', 'input_schema.json']\n"
     ]
    },
    {
     "data": {
      "application/vnd.jupyter.widget-view+json": {
       "model_id": "",
       "version_major": 2,
       "version_minor": 0
      },
      "text/plain": [
       "loop1:   0%|          | 0/5 [00:00<?, ?it/s]"
      ]
     },
     "metadata": {},
     "output_type": "display_data"
    },
    {
     "name": "stdout",
     "output_type": "stream",
     "text": [
      "artifact:/tmp/saved_model_c820d4be-c217-4326-9713-8873575ec79b.zip\n"
     ]
    }
   ],
   "source": [
    "#save the model to model catalog\n",
    "model_id = sklearn_model.save(display_name = \"LR - Credit Scoring - Model\")"
   ]
  },
  {
   "cell_type": "markdown",
   "id": "1bc7d4e8",
   "metadata": {},
   "source": [
    "## **2.2 Deploy the Model using the UI**"
   ]
  },
  {
   "cell_type": "code",
   "execution_count": 8,
   "id": "66294667",
   "metadata": {},
   "outputs": [
    {
     "data": {
      "application/vnd.jupyter.widget-view+json": {
       "model_id": "",
       "version_major": 2,
       "version_minor": 0
      },
      "text/plain": [
       "loop1:   0%|          | 0/6 [00:00<?, ?it/s]"
      ]
     },
     "metadata": {},
     "output_type": "display_data"
    },
    {
     "name": "stdout",
     "output_type": "stream",
     "text": [
      "Endpoint: https://modeldeployment.eu-frankfurt-1.oci.customer-oci.com/ocid1.datasciencemodeldeployment.oc1.eu-frankfurt-1.amaaaaaangencdyad5mokmz6krqtaxxhbejmk62qnwsd2lo2dycurdd6atsa\n"
     ]
    }
   ],
   "source": [
    "# Deploy and create an endpoint for the Random Forest model\n",
    "sklearn_model.deploy(\n",
    "        display_name=\"LR - Credit Scoring - Model Deployment\",\n",
    "        deployment_log_group_id=\"ocid1.loggroup.oc1.eu-frankfurt-1.amaaaaaangencdyajxalcuggjaug57r3ugare7olsk44ts2shyv7azqbxf4q\",\n",
    "        deployment_access_log_id=\"ocid1.log.oc1.eu-frankfurt-1.amaaaaaangencdya3kbi2lvdhtevzeohpq2hvhpq3icwbhfbt7stslledgtq\",\n",
    "        deployment_predict_log_id=\"ocid1.log.oc1.eu-frankfurt-1.amaaaaaangencdya3kbi2lvdhtevzeohpq2hvhpq3icwbhfbt7stslledgtq\",\n",
    "    )\n",
    "\n",
    "#get the endpoint\n",
    "print(f\"Endpoint: {sklearn_model.model_deployment.url}\")"
   ]
  },
  {
   "cell_type": "markdown",
   "id": "eff77a8d",
   "metadata": {},
   "source": [
    "## **2.3 Invoke the Deployed model**"
   ]
  },
  {
   "cell_type": "code",
   "execution_count": 11,
   "id": "305f63ec",
   "metadata": {},
   "outputs": [],
   "source": [
    "#example application id\n",
    "loan_application = 30"
   ]
  },
  {
   "cell_type": "code",
   "execution_count": 12,
   "id": "58c15ce2",
   "metadata": {},
   "outputs": [
    {
     "name": "stdout",
     "output_type": "stream",
     "text": [
      "Predicted Credit Score in ID 30 , is: [8.649701003238533]\n"
     ]
    }
   ],
   "source": [
    "print(\"Predicted Credit Score in ID \" + str(loan_application) + \" , is: \" + str(sklearn_model.predict(X_test[(loan_application-1):loan_application])['prediction']))"
   ]
  },
  {
   "cell_type": "markdown",
   "id": "5c1fa7ee",
   "metadata": {},
   "source": [
    "## **3. Run Predictions on New Loan Appliations**"
   ]
  },
  {
   "cell_type": "code",
   "execution_count": 13,
   "id": "bc65fcea",
   "metadata": {},
   "outputs": [
    {
     "data": {
      "text/html": [
       "<div>\n",
       "<style scoped>\n",
       "    .dataframe tbody tr th:only-of-type {\n",
       "        vertical-align: middle;\n",
       "    }\n",
       "\n",
       "    .dataframe tbody tr th {\n",
       "        vertical-align: top;\n",
       "    }\n",
       "\n",
       "    .dataframe thead th {\n",
       "        text-align: right;\n",
       "    }\n",
       "</style>\n",
       "<table border=\"1\" class=\"dataframe\">\n",
       "  <thead>\n",
       "    <tr style=\"text-align: right;\">\n",
       "      <th></th>\n",
       "      <th>Age</th>\n",
       "      <th>Marital Status</th>\n",
       "      <th>Loan Type</th>\n",
       "      <th>Loan Amount</th>\n",
       "      <th>Loan Length</th>\n",
       "      <th>Gender</th>\n",
       "      <th>Loan Status</th>\n",
       "    </tr>\n",
       "  </thead>\n",
       "  <tbody>\n",
       "    <tr>\n",
       "      <th>0</th>\n",
       "      <td>31.0</td>\n",
       "      <td>2.0</td>\n",
       "      <td>2</td>\n",
       "      <td>100000.0</td>\n",
       "      <td>276.0</td>\n",
       "      <td>0.0</td>\n",
       "      <td>Submitted</td>\n",
       "    </tr>\n",
       "    <tr>\n",
       "      <th>3</th>\n",
       "      <td>28.0</td>\n",
       "      <td>0.0</td>\n",
       "      <td>2</td>\n",
       "      <td>75000.0</td>\n",
       "      <td>276.0</td>\n",
       "      <td>0.0</td>\n",
       "      <td>Submitted</td>\n",
       "    </tr>\n",
       "    <tr>\n",
       "      <th>6</th>\n",
       "      <td>35.0</td>\n",
       "      <td>1.0</td>\n",
       "      <td>3</td>\n",
       "      <td>15000.0</td>\n",
       "      <td>12.0</td>\n",
       "      <td>1.0</td>\n",
       "      <td>Submitted</td>\n",
       "    </tr>\n",
       "    <tr>\n",
       "      <th>9</th>\n",
       "      <td>67.0</td>\n",
       "      <td>2.0</td>\n",
       "      <td>1</td>\n",
       "      <td>45000.0</td>\n",
       "      <td>12.0</td>\n",
       "      <td>0.0</td>\n",
       "      <td>Submitted</td>\n",
       "    </tr>\n",
       "    <tr>\n",
       "      <th>12</th>\n",
       "      <td>35.0</td>\n",
       "      <td>1.0</td>\n",
       "      <td>3</td>\n",
       "      <td>10000.0</td>\n",
       "      <td>12.0</td>\n",
       "      <td>1.0</td>\n",
       "      <td>Submitted</td>\n",
       "    </tr>\n",
       "    <tr>\n",
       "      <th>15</th>\n",
       "      <td>23.0</td>\n",
       "      <td>2.0</td>\n",
       "      <td>2</td>\n",
       "      <td>40000.0</td>\n",
       "      <td>12.0</td>\n",
       "      <td>1.0</td>\n",
       "      <td>Submitted</td>\n",
       "    </tr>\n",
       "    <tr>\n",
       "      <th>18</th>\n",
       "      <td>66.0</td>\n",
       "      <td>2.0</td>\n",
       "      <td>0</td>\n",
       "      <td>10000.0</td>\n",
       "      <td>24.0</td>\n",
       "      <td>0.0</td>\n",
       "      <td>Submitted</td>\n",
       "    </tr>\n",
       "    <tr>\n",
       "      <th>21</th>\n",
       "      <td>28.0</td>\n",
       "      <td>2.0</td>\n",
       "      <td>1</td>\n",
       "      <td>10000.0</td>\n",
       "      <td>36.0</td>\n",
       "      <td>0.0</td>\n",
       "      <td>Submitted</td>\n",
       "    </tr>\n",
       "    <tr>\n",
       "      <th>24</th>\n",
       "      <td>23.0</td>\n",
       "      <td>1.0</td>\n",
       "      <td>2</td>\n",
       "      <td>15000.0</td>\n",
       "      <td>132.0</td>\n",
       "      <td>1.0</td>\n",
       "      <td>Submitted</td>\n",
       "    </tr>\n",
       "    <tr>\n",
       "      <th>27</th>\n",
       "      <td>46.0</td>\n",
       "      <td>1.0</td>\n",
       "      <td>2</td>\n",
       "      <td>80000.0</td>\n",
       "      <td>240.0</td>\n",
       "      <td>0.0</td>\n",
       "      <td>Submitted</td>\n",
       "    </tr>\n",
       "    <tr>\n",
       "      <th>30</th>\n",
       "      <td>51.0</td>\n",
       "      <td>2.0</td>\n",
       "      <td>1</td>\n",
       "      <td>35000.0</td>\n",
       "      <td>24.0</td>\n",
       "      <td>0.0</td>\n",
       "      <td>Submitted</td>\n",
       "    </tr>\n",
       "    <tr>\n",
       "      <th>33</th>\n",
       "      <td>47.0</td>\n",
       "      <td>1.0</td>\n",
       "      <td>1</td>\n",
       "      <td>30000.0</td>\n",
       "      <td>12.0</td>\n",
       "      <td>0.0</td>\n",
       "      <td>Submitted</td>\n",
       "    </tr>\n",
       "    <tr>\n",
       "      <th>36</th>\n",
       "      <td>54.0</td>\n",
       "      <td>2.0</td>\n",
       "      <td>1</td>\n",
       "      <td>40000.0</td>\n",
       "      <td>12.0</td>\n",
       "      <td>1.0</td>\n",
       "      <td>Submitted</td>\n",
       "    </tr>\n",
       "    <tr>\n",
       "      <th>39</th>\n",
       "      <td>46.0</td>\n",
       "      <td>2.0</td>\n",
       "      <td>2</td>\n",
       "      <td>55000.0</td>\n",
       "      <td>36.0</td>\n",
       "      <td>0.0</td>\n",
       "      <td>Submitted</td>\n",
       "    </tr>\n",
       "    <tr>\n",
       "      <th>42</th>\n",
       "      <td>47.0</td>\n",
       "      <td>2.0</td>\n",
       "      <td>0</td>\n",
       "      <td>15000.0</td>\n",
       "      <td>48.0</td>\n",
       "      <td>0.0</td>\n",
       "      <td>Submitted</td>\n",
       "    </tr>\n",
       "    <tr>\n",
       "      <th>45</th>\n",
       "      <td>29.0</td>\n",
       "      <td>1.0</td>\n",
       "      <td>1</td>\n",
       "      <td>45000.0</td>\n",
       "      <td>36.0</td>\n",
       "      <td>0.0</td>\n",
       "      <td>Submitted</td>\n",
       "    </tr>\n",
       "    <tr>\n",
       "      <th>48</th>\n",
       "      <td>63.0</td>\n",
       "      <td>1.0</td>\n",
       "      <td>0</td>\n",
       "      <td>10000.0</td>\n",
       "      <td>12.0</td>\n",
       "      <td>0.0</td>\n",
       "      <td>Submitted</td>\n",
       "    </tr>\n",
       "    <tr>\n",
       "      <th>51</th>\n",
       "      <td>60.0</td>\n",
       "      <td>1.0</td>\n",
       "      <td>3</td>\n",
       "      <td>20000.0</td>\n",
       "      <td>12.0</td>\n",
       "      <td>0.0</td>\n",
       "      <td>Submitted</td>\n",
       "    </tr>\n",
       "  </tbody>\n",
       "</table>\n",
       "</div>"
      ],
      "text/plain": [
       "     Age  Marital Status  Loan Type  Loan Amount  Loan Length  Gender  \\\n",
       "0   31.0             2.0          2     100000.0        276.0     0.0   \n",
       "3   28.0             0.0          2      75000.0        276.0     0.0   \n",
       "6   35.0             1.0          3      15000.0         12.0     1.0   \n",
       "9   67.0             2.0          1      45000.0         12.0     0.0   \n",
       "12  35.0             1.0          3      10000.0         12.0     1.0   \n",
       "15  23.0             2.0          2      40000.0         12.0     1.0   \n",
       "18  66.0             2.0          0      10000.0         24.0     0.0   \n",
       "21  28.0             2.0          1      10000.0         36.0     0.0   \n",
       "24  23.0             1.0          2      15000.0        132.0     1.0   \n",
       "27  46.0             1.0          2      80000.0        240.0     0.0   \n",
       "30  51.0             2.0          1      35000.0         24.0     0.0   \n",
       "33  47.0             1.0          1      30000.0         12.0     0.0   \n",
       "36  54.0             2.0          1      40000.0         12.0     1.0   \n",
       "39  46.0             2.0          2      55000.0         36.0     0.0   \n",
       "42  47.0             2.0          0      15000.0         48.0     0.0   \n",
       "45  29.0             1.0          1      45000.0         36.0     0.0   \n",
       "48  63.0             1.0          0      10000.0         12.0     0.0   \n",
       "51  60.0             1.0          3      20000.0         12.0     0.0   \n",
       "\n",
       "   Loan Status  \n",
       "0    Submitted  \n",
       "3    Submitted  \n",
       "6    Submitted  \n",
       "9    Submitted  \n",
       "12   Submitted  \n",
       "15   Submitted  \n",
       "18   Submitted  \n",
       "21   Submitted  \n",
       "24   Submitted  \n",
       "27   Submitted  \n",
       "30   Submitted  \n",
       "33   Submitted  \n",
       "36   Submitted  \n",
       "39   Submitted  \n",
       "42   Submitted  \n",
       "45   Submitted  \n",
       "48   Submitted  \n",
       "51   Submitted  "
      ]
     },
     "execution_count": 13,
     "metadata": {},
     "output_type": "execute_result"
    }
   ],
   "source": [
    "#filter on the features that we need\n",
    "df_in_predictions = df_in[[\"Age\", \"Marital Status\", \"Loan Type\", \"Loan Amount\", \"Loan Length\", \"Gender\", \"Loan Status\"]]\n",
    "\n",
    "#fill missing values\n",
    "df_in_predictions = df_in_predictions.fillna({\"Loan Type\":\"Auto\"})\n",
    "                             \n",
    "#apply categorical to numeric values\n",
    "df_in_predictions['Gender'] = df_in_predictions['Gender'].apply(gender_to_numeric)\n",
    "df_in_predictions['Marital Status'] = df_in_predictions['Marital Status'].apply(marital_to_numeric)\n",
    "df_in_predictions['Loan Type'] = df_in_predictions['Loan Type'].apply(loantype_to_numeric)\n",
    "\n",
    "#show input for model deployment\n",
    "input_predictions = df_in_predictions[df_in_predictions['Loan Status'] == 'Submitted'] \n",
    "input_predictions"
   ]
  },
  {
   "cell_type": "markdown",
   "id": "057739f3",
   "metadata": {},
   "source": [
    "## **Invoke the newly deployed model**"
   ]
  },
  {
   "cell_type": "code",
   "execution_count": 14,
   "id": "dbe23bd1",
   "metadata": {},
   "outputs": [
    {
     "name": "stdout",
     "output_type": "stream",
     "text": [
      "###############################################################################\n",
      "###############################################################################\n",
      "###############################################################################\n",
      "                     \n",
      "New applicant 1 has a Predicted Credit Score of [8.64674058309519]\n",
      "###############################################################################\n",
      "###############################################################################\n",
      "                     \n",
      "###############################################################################\n",
      "###############################################################################\n",
      "###############################################################################\n",
      "                     \n",
      "New applicant 2 has a Predicted Credit Score of [8.677823456232401]\n",
      "###############################################################################\n",
      "###############################################################################\n",
      "                     \n",
      "###############################################################################\n",
      "###############################################################################\n",
      "###############################################################################\n",
      "                     \n",
      "New applicant 3 has a Predicted Credit Score of [8.650523663007284]\n",
      "###############################################################################\n",
      "###############################################################################\n",
      "                     \n",
      "###############################################################################\n",
      "###############################################################################\n",
      "###############################################################################\n",
      "                     \n",
      "New applicant 4 has a Predicted Credit Score of [8.659298713019565]\n",
      "###############################################################################\n",
      "###############################################################################\n",
      "                     \n",
      "###############################################################################\n",
      "###############################################################################\n",
      "###############################################################################\n",
      "                     \n",
      "New applicant 5 has a Predicted Credit Score of [8.651499083436002]\n",
      "###############################################################################\n",
      "###############################################################################\n",
      "                     \n",
      "###############################################################################\n",
      "###############################################################################\n",
      "###############################################################################\n",
      "                     \n",
      "New applicant 6 has a Predicted Credit Score of [8.630713967668328]\n",
      "###############################################################################\n",
      "###############################################################################\n",
      "                     \n",
      "###############################################################################\n",
      "###############################################################################\n",
      "###############################################################################\n",
      "                     \n",
      "New applicant 7 has a Predicted Credit Score of [8.669021902251131]\n",
      "###############################################################################\n",
      "###############################################################################\n",
      "                     \n",
      "###############################################################################\n",
      "###############################################################################\n",
      "###############################################################################\n",
      "                     \n",
      "New applicant 8 has a Predicted Credit Score of [8.654353572328068]\n",
      "###############################################################################\n",
      "###############################################################################\n",
      "                     \n",
      "###############################################################################\n",
      "###############################################################################\n",
      "###############################################################################\n",
      "                     \n",
      "New applicant 9 has a Predicted Credit Score of [8.654989753091598]\n",
      "###############################################################################\n",
      "###############################################################################\n",
      "                     \n",
      "###############################################################################\n",
      "###############################################################################\n",
      "###############################################################################\n",
      "                     \n",
      "New applicant 10 has a Predicted Credit Score of [8.66747718764052]\n",
      "###############################################################################\n",
      "###############################################################################\n",
      "                     \n",
      "###############################################################################\n",
      "###############################################################################\n",
      "###############################################################################\n",
      "                     \n",
      "New applicant 11 has a Predicted Credit Score of [8.656523644381167]\n",
      "###############################################################################\n",
      "###############################################################################\n",
      "                     \n",
      "###############################################################################\n",
      "###############################################################################\n",
      "###############################################################################\n",
      "                     \n",
      "New applicant 12 has a Predicted Credit Score of [8.669193088807406]\n",
      "###############################################################################\n",
      "###############################################################################\n",
      "                     \n",
      "###############################################################################\n",
      "###############################################################################\n",
      "###############################################################################\n",
      "                     \n",
      "New applicant 13 has a Predicted Credit Score of [8.643640871282372]\n",
      "###############################################################################\n",
      "###############################################################################\n",
      "                     \n",
      "###############################################################################\n",
      "###############################################################################\n",
      "###############################################################################\n",
      "                     \n",
      "New applicant 14 has a Predicted Credit Score of [8.648896737761559]\n",
      "###############################################################################\n",
      "###############################################################################\n",
      "                     \n",
      "###############################################################################\n",
      "###############################################################################\n",
      "###############################################################################\n",
      "                     \n",
      "New applicant 15 has a Predicted Credit Score of [8.662905582989477]\n",
      "###############################################################################\n",
      "###############################################################################\n",
      "                     \n",
      "###############################################################################\n",
      "###############################################################################\n",
      "###############################################################################\n",
      "                     \n",
      "New applicant 16 has a Predicted Credit Score of [8.661457537931293]\n",
      "###############################################################################\n",
      "###############################################################################\n",
      "                     \n",
      "###############################################################################\n",
      "###############################################################################\n",
      "###############################################################################\n",
      "                     \n",
      "New applicant 17 has a Predicted Credit Score of [8.68104753549163]\n",
      "###############################################################################\n",
      "###############################################################################\n",
      "                     \n",
      "###############################################################################\n",
      "###############################################################################\n",
      "###############################################################################\n",
      "                     \n",
      "New applicant 18 has a Predicted Credit Score of [8.670160815660234]\n",
      "###############################################################################\n",
      "###############################################################################\n",
      "                     \n"
     ]
    }
   ],
   "source": [
    "#filter out the status\n",
    "list_input = np.array(input_predictions[[\"Age\", \"Marital Status\", \"Loan Type\", \"Loan Amount\", \"Loan Length\", \"Gender\"]])\n",
    "idx = 1\n",
    "#loop through the list and make prediction\n",
    "for x in list_input:\n",
    "    data = x.reshape(1,6)\n",
    "\n",
    "    print(\"###############################################################################\")\n",
    "    print(\"###############################################################################\")\n",
    "    print(\"###############################################################################\")\n",
    "    print(\"                     \")\n",
    "    res = sklearn_model.predict(data)['prediction']\n",
    "    print(\"New applicant \" + str(idx) + \" has a Predicted Credit Score of \" + str(res))\n",
    "    print(\"###############################################################################\")\n",
    "    print(\"###############################################################################\")\n",
    "    print(\"                     \")\n",
    "    idx += 1\n",
    "    time.sleep(2)\n"
   ]
  },
  {
   "cell_type": "markdown",
   "id": "d03a5799",
   "metadata": {},
   "source": [
    "</br></br><h1 style='color:#09a2b3'><center> End of Notebook </center></h1>"
   ]
  }
 ],
 "metadata": {
  "kernelspec": {
   "display_name": "Python [conda env:fdf_conda]",
   "language": "python",
   "name": "conda-env-fdf_conda-py"
  },
  "language_info": {
   "codemirror_mode": {
    "name": "ipython",
    "version": 3
   },
   "file_extension": ".py",
   "mimetype": "text/x-python",
   "name": "python",
   "nbconvert_exporter": "python",
   "pygments_lexer": "ipython3",
   "version": "3.7.10"
  }
 },
 "nbformat": 4,
 "nbformat_minor": 5
}
