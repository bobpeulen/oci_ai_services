{
 "cells": [
  {
   "cell_type": "markdown",
   "id": "322c2319",
   "metadata": {},
   "source": [
    "<p><img src=\"https://docs.oracle.com/en-us/iaas/Content/anomaly/images/mset2.png\" width=\"300\" align = \"left\"></p>\n",
    "<p><img src=\"https://www.adaption-it.nl/wp-content/uploads/2019/02/Oracle-Logo.png.png\" width=\"300\" align = \"right\"></p>\n",
    "\n",
    "\n",
    "# **<h1 align =\"middle\"><b> OCI Anomaly Detection </b></h1>**"
   ]
  },
  {
   "cell_type": "markdown",
   "id": "5b03b913",
   "metadata": {},
   "source": [
    "# **Steps**\n",
    "\n",
    "- Import libraries + authenticate using Config\n",
    "- Load new data set and convert to JSON payload\n",
    "- Send JSON payload and receive response"
   ]
  },
  {
   "cell_type": "markdown",
   "id": "83b51b82",
   "metadata": {},
   "source": [
    "# **1. Libraries and authentication**"
   ]
  },
  {
   "cell_type": "code",
   "execution_count": 3,
   "id": "fc7b44d3",
   "metadata": {},
   "outputs": [],
   "source": [
    "import oci\n",
    "import time\n",
    "import json\n",
    "import pandas as pd\n",
    "from datetime import datetime, date\n",
    "\n",
    "from oci.config import from_file\n",
    "from oci.ai_anomaly_detection.models import *\n",
    "from oci.ai_anomaly_detection.anomaly_detection_client import AnomalyDetectionClient\n",
    "\n",
    "from oci.ai_anomaly_detection.models.create_project_details import CreateProjectDetails\n",
    "from oci.ai_anomaly_detection.models.create_data_asset_details import CreateDataAssetDetails\n",
    "from oci.ai_anomaly_detection.models.data_source_details import DataSourceDetails\n",
    "from oci.ai_anomaly_detection.models.data_source_details_object_storage import DataSourceDetailsObjectStorage\n",
    "\n",
    "from oci.ai_anomaly_detection.models.create_model_details import CreateModelDetails\n",
    "from oci.ai_anomaly_detection.models.model_training_details import ModelTrainingDetails\n",
    "\n",
    "from oci.ai_anomaly_detection.models.data_item import DataItem\n",
    "from oci.ai_anomaly_detection.models.inline_detect_anomalies_request import InlineDetectAnomaliesRequest\n",
    "\n",
    "## authentication\n",
    "config = from_file(\"/home/datascience/.oci/config\")\n",
    "SERVICE_ENDPOINT=\"https://anomalydetection.aiservice.eu-frankfurt-1.oci.oraclecloud.com\"\n",
    "ad_client = AnomalyDetectionClient(config, service_endpoint=SERVICE_ENDPOINT)"
   ]
  },
  {
   "cell_type": "markdown",
   "id": "f3bdcf41",
   "metadata": {},
   "source": [
    "# **2. Load data and create payload**"
   ]
  },
  {
   "cell_type": "code",
   "execution_count": 4,
   "id": "b5cf8d5c",
   "metadata": {},
   "outputs": [],
   "source": [
    "#Load the data from a csv file with first column as timestamp\n",
    "df = pd.read_csv(\"/home/datascience/xxx/xxxxxxx.csv\")\n",
    "signalNames = [e for e in df.columns if e != 'timestamp']\n",
    "\n",
    "#Create the Payload from the dataframe\n",
    "payloadData = []\n",
    "for index, row in df.iterrows():\n",
    "    timestamp = datetime.strptime(row['timestamp'], \"%Y-%m-%dT%H:%M:%SZ\")\n",
    "    values = list(row[signalNames])\n",
    "    dItem = DataItem(timestamp=timestamp, values=values)\n",
    "    payloadData.append(dItem)\n",
    "\n",
    "#create a subset\n",
    "payloadData_short = payloadData[0:10]"
   ]
  },
  {
   "cell_type": "markdown",
   "id": "b8c75a71",
   "metadata": {},
   "source": [
    "# **3. Send payload to pre-built model and get response**"
   ]
  },
  {
   "cell_type": "code",
   "execution_count": 5,
   "id": "aebae226",
   "metadata": {},
   "outputs": [
    {
     "name": "stdout",
     "output_type": "stream",
     "text": [
      "----DETECTING----\n",
      "{\n",
      "  \"detection_results\": [\n",
      "    {\n",
      "      \"anomalies\": [\n",
      "        {\n",
      "          \"actual_value\": 10.0224,\n",
      "          \"anomaly_score\": 0.6,\n",
      "          \"estimated_value\": 1.1503004343005476,\n",
      "          \"imputed_value\": null,\n",
      "          \"signal_name\": \"pressure_5\"\n",
      "        }\n",
      "      ],\n",
      "      \"row_index\": null,\n",
      "      \"score\": 0.15247896857228543,\n",
      "      \"timestamp\": \"2019-01-01T00:00:04+00:00\"\n",
      "    },\n",
      "    {\n",
      "      \"anomalies\": [\n",
      "        {\n",
      "          \"actual_value\": 12.3838,\n",
      "          \"anomaly_score\": 0.6,\n",
      "          \"estimated_value\": 0.6492285168789096,\n",
      "          \"imputed_value\": null,\n",
      "          \"signal_name\": \"temperature_2\"\n",
      "        }\n",
      "      ],\n",
      "      \"row_index\": null,\n",
      "      \"score\": 0.1454964781633803,\n",
      "      \"timestamp\": \"2019-01-01T00:04:04+00:00\"\n",
      "    }\n",
      "  ]\n",
      "}\n"
     ]
    }
   ],
   "source": [
    "## model details\n",
    "model_id = \"[MODEL_OCID]\"\n",
    "\n",
    "## actual request\n",
    "inline = InlineDetectAnomaliesRequest( model_id=model_id, request_type=\"INLINE\", signal_names=signalNames, data=payloadData_short)\n",
    "detect_res = ad_client.detect_anomalies(detect_anomalies_details=inline)\n",
    "\n",
    "print(\"----DETECTING----\")\n",
    "print(detect_res.data)"
   ]
  },
  {
   "cell_type": "code",
   "execution_count": null,
   "id": "822c1923",
   "metadata": {},
   "outputs": [],
   "source": []
  }
 ],
 "metadata": {
  "kernelspec": {
   "display_name": "Python [conda env:mlcpuv1]",
   "language": "python",
   "name": "conda-env-mlcpuv1-py"
  },
  "language_info": {
   "codemirror_mode": {
    "name": "ipython",
    "version": 3
   },
   "file_extension": ".py",
   "mimetype": "text/x-python",
   "name": "python",
   "nbconvert_exporter": "python",
   "pygments_lexer": "ipython3",
   "version": "3.6.11"
  }
 },
 "nbformat": 4,
 "nbformat_minor": 5
}
